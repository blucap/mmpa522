{
 "cells": [
  {
   "cell_type": "code",
   "execution_count": 1,
   "metadata": {},
   "outputs": [
    {
     "data": {
      "text/plain": [
       "\"%.2f\""
      ]
     },
     "execution_count": 1,
     "metadata": {},
     "output_type": "execute_result"
    }
   ],
   "source": [
    "using Formatting\n",
    "fmt = \"%.2f\""
   ]
  },
  {
   "cell_type": "markdown",
   "metadata": {},
   "source": [
    "**Trent’s weighted average cost of capital (WACC) is 7.63\\%, calculated as follows:**"
   ]
  },
  {
   "cell_type": "markdown",
   "metadata": {},
   "source": [
    "First set up the functions"
   ]
  },
  {
   "cell_type": "code",
   "execution_count": 2,
   "metadata": {},
   "outputs": [
    {
     "data": {
      "text/plain": [
       "wacc (generic function with 1 method)"
      ]
     },
     "execution_count": 2,
     "metadata": {},
     "output_type": "execute_result"
    }
   ],
   "source": [
    "function wacc(ke, kd, tc, E, D)\n",
    "    V = E + D\n",
    "    k = kd*(1-tc)D/V + ke*E/V\n",
    "    return k\n",
    "end"
   ]
  },
  {
   "cell_type": "code",
   "execution_count": 3,
   "metadata": {},
   "outputs": [
    {
     "data": {
      "text/plain": [
       "coc (generic function with 1 method)"
      ]
     },
     "execution_count": 3,
     "metadata": {},
     "output_type": "execute_result"
    }
   ],
   "source": [
    "function coc(rf, β, rp)\n",
    "    return rf + β * rp\n",
    "end"
   ]
  },
  {
   "cell_type": "code",
   "execution_count": 4,
   "metadata": {},
   "outputs": [
    {
     "data": {
      "text/plain": [
       "cod (generic function with 1 method)"
      ]
     },
     "execution_count": 4,
     "metadata": {},
     "output_type": "execute_result"
    }
   ],
   "source": [
    "function cod(kd, tc)\n",
    "    return kd*(1-tc)\n",
    "end"
   ]
  },
  {
   "cell_type": "markdown",
   "metadata": {},
   "source": [
    "Main parameters"
   ]
  },
  {
   "cell_type": "code",
   "execution_count": 5,
   "metadata": {},
   "outputs": [
    {
     "name": "stdout",
     "output_type": "stream",
     "text": [
      "MV of firm: 245880.00\n"
     ]
    }
   ],
   "source": [
    "rf = 4.5\n",
    "rp = 6.0\n",
    "β = 0.55\n",
    "tc = 0.3\n",
    "MV = 102450*2.40\n",
    "D  = 15000\n",
    "printfmt(\"{1:s}: {2:.2f}\\n\", \"MV of firm\", MV)"
   ]
  },
  {
   "cell_type": "markdown",
   "metadata": {},
   "source": [
    "Cost of Equity:"
   ]
  },
  {
   "cell_type": "code",
   "execution_count": 6,
   "metadata": {},
   "outputs": [
    {
     "name": "stdout",
     "output_type": "stream",
     "text": [
      "Cost of Equity: 7.80 percent.\n"
     ]
    }
   ],
   "source": [
    "ke = coc(rf, β, rp)\n",
    "printfmt(\"{1:s}: {2:.2f} percent.\\n\", \"Cost of Equity\", ke)"
   ]
  },
  {
   "cell_type": "markdown",
   "metadata": {},
   "source": [
    "Cost of Debt:"
   ]
  },
  {
   "cell_type": "code",
   "execution_count": 7,
   "metadata": {},
   "outputs": [
    {
     "name": "stdout",
     "output_type": "stream",
     "text": [
      "Cost of Debt: 4.90 percent.\n"
     ]
    }
   ],
   "source": [
    "kd = cod(7,tc)\n",
    "printfmt(\"{1:s}: {2:.2f} percent.\\n\", \"Cost of Debt\", kd)"
   ]
  },
  {
   "cell_type": "markdown",
   "metadata": {},
   "source": [
    "WACC:"
   ]
  },
  {
   "cell_type": "code",
   "execution_count": 8,
   "metadata": {},
   "outputs": [
    {
     "name": "stdout",
     "output_type": "stream",
     "text": [
      "WACC: 7.63 percent.\n"
     ]
    }
   ],
   "source": [
    "k =  wacc(ke, 7, 0.3, MV, D)\n",
    "printfmt(\"{1:s}: {2:.2f} percent.\\n\", \"WACC\", k)"
   ]
  },
  {
   "cell_type": "markdown",
   "metadata": {},
   "source": [
    "**Post-acquisition WACC for Trent**\n",
    "\n",
    "First calculate the unlevered beta of the comparable firm:"
   ]
  },
  {
   "cell_type": "code",
   "execution_count": 9,
   "metadata": {},
   "outputs": [
    {
     "data": {
      "text/plain": [
       "beta_u (generic function with 1 method)"
      ]
     },
     "execution_count": 9,
     "metadata": {},
     "output_type": "execute_result"
    }
   ],
   "source": [
    "function beta_u(β, tc, E, D)\n",
    "    return β / (1 + (1 - tc)D/E)\n",
    "end"
   ]
  },
  {
   "cell_type": "code",
   "execution_count": 10,
   "metadata": {},
   "outputs": [
    {
     "name": "stdout",
     "output_type": "stream",
     "text": [
      "Unlevered β: 0.60\n"
     ]
    }
   ],
   "source": [
    "β_u = beta_u(0.7, tc, 80, 20)\n",
    "printfmt(\"{1:s}: {2:.2f}\\n\", \"Unlevered β\", β_u)"
   ]
  },
  {
   "cell_type": "code",
   "execution_count": 11,
   "metadata": {},
   "outputs": [
    {
     "data": {
      "text/plain": [
       "0.5957446808510638"
      ]
     },
     "execution_count": 11,
     "metadata": {},
     "output_type": "execute_result"
    }
   ],
   "source": [
    "β_u"
   ]
  },
  {
   "cell_type": "markdown",
   "metadata": {},
   "source": [
    "Then calculate the levered beta using the unlevered beta applied to the firm's capital structure:"
   ]
  },
  {
   "cell_type": "code",
   "execution_count": 12,
   "metadata": {},
   "outputs": [
    {
     "data": {
      "text/plain": [
       "beta_g (generic function with 1 method)"
      ]
     },
     "execution_count": 12,
     "metadata": {},
     "output_type": "execute_result"
    }
   ],
   "source": [
    "function beta_g(β, tc, E, D)\n",
    "    return β*(1 + (1 - tc)D/E)\n",
    "end"
   ]
  },
  {
   "cell_type": "code",
   "execution_count": 13,
   "metadata": {},
   "outputs": [
    {
     "name": "stdout",
     "output_type": "stream",
     "text": [
      "(re-)levered β: 0.75\n"
     ]
    }
   ],
   "source": [
    "β_l = beta_g(β_u, tc, MV, 15000+75000)\n",
    "printfmt(\"{1:s}: {2:.2f}\\n\", \"(re-)levered β\", β_l)"
   ]
  },
  {
   "cell_type": "markdown",
   "metadata": {},
   "source": [
    "Calculate the resulting cost of equity:"
   ]
  },
  {
   "cell_type": "code",
   "execution_count": 14,
   "metadata": {},
   "outputs": [
    {
     "name": "stdout",
     "output_type": "stream",
     "text": [
      "New cost of Equity: 8.99\n"
     ]
    }
   ],
   "source": [
    "ke2 = coc(rf, β_l, rp)\n",
    "printfmt(\"{1:s}: {2:.2f}\\n\", \"New cost of Equity\", ke2)"
   ]
  },
  {
   "cell_type": "code",
   "execution_count": 15,
   "metadata": {},
   "outputs": [
    {
     "name": "stdout",
     "output_type": "stream",
     "text": [
      "New WACC: 7.97\n"
     ]
    }
   ],
   "source": [
    "function wacc_2(ke2, kd1, kd2, tc, E, D1, D2)\n",
    "    V = E + D1 + D2\n",
    "    k = kd1*D1/V + kd2*D2/V + ke2*E/V\n",
    "    return k\n",
    "end\n",
    "k2 = wacc_2(ke2, cod(7,tc), cod(7.5,tc), tc, MV, 15000, 75000)\n",
    "printfmt(\"{1:s}: {2:.2f}\\n\", \"New WACC\", k2)"
   ]
  }
 ],
 "metadata": {
  "kernelspec": {
   "display_name": "Julia 1.6.4",
   "language": "julia",
   "name": "julia-1.6"
  },
  "language_info": {
   "file_extension": ".jl",
   "mimetype": "application/julia",
   "name": "julia",
   "version": "1.6.4"
  }
 },
 "nbformat": 4,
 "nbformat_minor": 4
}
